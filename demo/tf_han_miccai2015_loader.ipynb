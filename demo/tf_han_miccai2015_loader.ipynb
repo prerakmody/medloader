{
 "metadata": {
  "language_info": {
   "codemirror_mode": {
    "name": "ipython",
    "version": 3
   },
   "file_extension": ".py",
   "mimetype": "text/x-python",
   "name": "python",
   "nbconvert_exporter": "python",
   "pygments_lexer": "ipython3",
   "version": "3.7.9-final"
  },
  "orig_nbformat": 2,
  "kernelspec": {
   "name": "python3",
   "display_name": "Python 3"
  }
 },
 "nbformat": 4,
 "nbformat_minor": 2,
 "cells": [
  {
   "source": [
    "# Imports"
   ],
   "cell_type": "markdown",
   "metadata": {}
  },
  {
   "cell_type": "code",
   "execution_count": null,
   "metadata": {},
   "outputs": [],
   "source": [
    "import pdb\n",
    "from pathlib import Path\n",
    "\n",
    "import medloader.dataloader.utils as utils\n",
    "import medloader.dataloader.config as config\n",
    "import medloader.dataloader.utils_viz as utils_viz\n",
    "import medloader.dataloader.tensorflow.augmentations as aug\n",
    "from medloader.dataloader.tensorflow.dataset import ZipDataset\n",
    "\n",
    "MAIN_DIR = Path().resolve().parent.absolute()\n",
    "data_dir = Path(MAIN_DIR).joinpath('_data')\n",
    "\n",
    "%load_ext autoreload\n",
    "%autoreload 2"
   ]
  },
  {
   "source": [
    "# Functions"
   ],
   "cell_type": "markdown",
   "metadata": {}
  },
  {
   "cell_type": "code",
   "execution_count": null,
   "metadata": {},
   "outputs": [],
   "source": [
    "def get_dataset_han_miccai2015_3D_grid(data_dir, dir_type=['train']\n",
    "                    , dimension=3, grid=True, resampled=True, mask_type=config.MASK_TYPE_ONEHOT\n",
    "                    , transforms=[], filter_grid=True\n",
    "                    , parallel_calls=None, deterministic=False\n",
    "                    , patient_shuffle=True\n",
    "                    , debug=False, single_sample=False):\n",
    "    \n",
    "    from medloader.dataloader.tensorflow.han_miccai2015 import HaNMICCAI2015Dataset\n",
    "\n",
    "    datasets = []\n",
    "    for dir_type_ in dir_type:\n",
    "        # Step 1 - Get dataset class\n",
    "        dataset = HaNMICCAI2015Dataset(data_dir=data_dir, dir_type=dir_type_\n",
    "                        , dimension=dimension, grid=grid, resampled=resampled, mask_type=mask_type\n",
    "                        , transforms=transforms, filter_grid=filter_grid\n",
    "                        , parallel_calls=parallel_calls, deterministic=deterministic\n",
    "                        , patient_shuffle=patient_shuffle\n",
    "                        , debug=debug, single_sample=single_sample)\n",
    "\n",
    "        # Step 2 - Transforms\n",
    "        if transforms:\n",
    "            x_shape_w = dataset.w_grid\n",
    "            x_shape_h = dataset.h_grid\n",
    "            x_shape_d = dataset.d_grid\n",
    "            transforms = [\n",
    "                    aug.NormalizeMinMaxSampler(min_val=config.HU_MIN, max_val=config.HU_MAX, x_shape=(x_shape_h, x_shape_w, x_shape_d,1))\n",
    "                    , aug.Rotate3D()\n",
    "                ]\n",
    "            dataset.transforms = transforms\n",
    "\n",
    "        # Step 3 - Filters (to eliminate/reduce background-only grids)\n",
    "        if filter_grid:\n",
    "            dataset.filter = aug.FilterByMask(len(dataset.LABEL_MAP), dataset.SAMPLER_PERC)\n",
    "\n",
    "        datasets.append(dataset)\n",
    "\n",
    "    # Step 4- Return\n",
    "    return ZipDataset(datasets)\n",
    "\n",
    "def get_dataset_han_miccai2015_3D_full(data_dir, dir_type='train'\n",
    "                    , dimension=3, grid=False, resampled=True, mask_type=config.MASK_TYPE_ONEHOT\n",
    "                    , transforms=[], filter_grid=False\n",
    "                    , parallel_calls=None, deterministic=False\n",
    "                    , patient_shuffle=True\n",
    "                    , debug=False, single_sample=False):\n",
    "    \n",
    "    from medloader.dataloader.tensorflow.han_miccai2015 import HaNMICCAI2015Dataset\n",
    "\n",
    "    # Step 1 - Get dataset class\n",
    "    dataset = HaNMICCAI2015Dataset(data_dir=data_dir, dir_type=dir_type\n",
    "                    , dimension=dimension, grid=grid, resampled=resampled, mask_type=mask_type\n",
    "                    , transforms=transforms, filter_grid=filter_grid\n",
    "                    , parallel_calls=parallel_calls, deterministic=deterministic\n",
    "                    , patient_shuffle=patient_shuffle\n",
    "                    , debug=debug, single_sample=single_sample)\n",
    "\n",
    "    # Step 2 - Transforms\n",
    "    if transforms:\n",
    "        x_shape_w = dataset.w_grid\n",
    "        x_shape_h = dataset.h_grid\n",
    "        x_shape_d = dataset.d_grid\n",
    "        transforms = [\n",
    "                aug.NormalizeMinMaxSampler(min_val=config.HU_MIN, max_val=config.HU_MAX, x_shape=(x_shape_h, x_shape_w, x_shape_d,1))\n",
    "            ]\n",
    "        dataset.transforms = transforms\n",
    "\n",
    "    # Step 3 - Return\n",
    "    return ZipDataset([dataset])"
   ]
  },
  {
   "source": [
    "# 1. Main - full volume extractor (for viewing purposes)"
   ],
   "cell_type": "markdown",
   "metadata": {}
  },
  {
   "cell_type": "code",
   "execution_count": null,
   "metadata": {},
   "outputs": [],
   "source": [
    "if 0:\n",
    "    batchsize = 1\n",
    "    dataset3D = get_dataset_han_miccai2015_3D_full(data_dir=data_dir, dir_type='train'\n",
    "                                                , mask_type=config.MASK_TYPE_COMBINED, resampled=False\n",
    "                                                , transforms=False)\n",
    "\n",
    "    for (X,Y,meta1,meta2) in dataset3D.generator().batch(batchsize):\n",
    "        print (' - ', X.shape, Y.shape, meta1.numpy())\n",
    "        if len(Y.shape) == 4:\n",
    "            datasets_this = utils.get_dataset_from_zip(meta2, dataset3D)\n",
    "            utils_viz.viz_3d_mask(Y, datasets_this, meta1, meta2)\n",
    "            pdb.set_trace()"
   ]
  },
  {
   "source": [
    "# 2. Main - grid extractor (for ML purposes - a Tensorflow loader)"
   ],
   "cell_type": "markdown",
   "metadata": {}
  },
  {
   "cell_type": "code",
   "execution_count": null,
   "metadata": {
    "tags": []
   },
   "outputs": [],
   "source": [
    "if 0:\n",
    "    batchsize = 1\n",
    "    dataset3D = get_dataset_han_miccai2015_3D_grid(data_dir=data_dir, dir_type='train'\n",
    "                                                , mask_type=config.MASK_TYPE_ONEHOT, resampled=True\n",
    "                                                , filter=True)\n",
    "\n",
    "    try:\n",
    "        for (X,Y,meta1,meta2) in dataset3D.generator().batch(batchsize):\n",
    "            if X.shape != (1,96,96,96,1) and Y.shape != (1,96,96,96,10):\n",
    "                print (X.shape, Y.shape, meta1.numpy())\n",
    "                pbd.set_trace()\n",
    "    except:\n",
    "        import traceback\n",
    "        traceback.print_exc()"
   ]
  },
  {
   "source": [
    "# 3. Main - grid extractor (for ML benchmarking purposes)"
   ],
   "cell_type": "markdown",
   "metadata": {}
  },
  {
   "cell_type": "code",
   "execution_count": null,
   "metadata": {
    "tags": []
   },
   "outputs": [],
   "source": [
    "if 1:\n",
    "    import medloader.dataloader.utils as utils\n",
    "\n",
    "    batchsize = 2\n",
    "    dataset3D = get_dataset_han_miccai2015_3D_grid(data_dir=data_dir, dir_type=['train', 'train_additional']\n",
    "                                                , mask_type=config.MASK_TYPE_ONEHOT, resampled=True\n",
    "                                                , filter_grid=True, transforms=True\n",
    "                                                , parallel_calls=2\n",
    "                                                , patient_shuffle=False \n",
    "                                                , single_sample=True)\n",
    "    print (' ---------------- ')\n",
    "    utils.benchmark(dataset3D.generator().batch(batchsize).prefetch(5), model_time=0.1)"
   ]
  },
  {
   "cell_type": "code",
   "execution_count": null,
   "metadata": {},
   "outputs": [],
   "source": []
  },
  {
   "source": [
    "# 4. Main - grid extractor (for viewing purposes)"
   ],
   "cell_type": "markdown",
   "metadata": {}
  },
  {
   "cell_type": "code",
   "execution_count": null,
   "metadata": {
    "tags": []
   },
   "outputs": [],
   "source": [
    "if 0:\n",
    "    batchsize = 1\n",
    "    dataset3D = get_dataset_han_miccai2015_3D_grid(data_dir=data_dir, dir_type='train'\n",
    "                                                , mask_type=config.MASK_TYPE_COMBINED, resampled=False\n",
    "                                                , filter=True, transforms=False)\n",
    "\n",
    "    for (X,Y,meta1,meta2) in dataset3D.generator().batch(batchsize):\n",
    "        print (' - ', X.shape, Y.shape, meta1.numpy())\n",
    "        if len(Y.shape) == 4:\n",
    "            datasets_this = utils.get_dataset_from_zip(meta2, dataset3D)\n",
    "            utils_viz.viz_3d_mask(Y, datasets_this, meta1, meta2)\n",
    "            "
   ]
  }
 ]
}