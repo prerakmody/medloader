{
 "metadata": {
  "language_info": {
   "codemirror_mode": {
    "name": "ipython",
    "version": 3
   },
   "file_extension": ".py",
   "mimetype": "text/x-python",
   "name": "python",
   "nbconvert_exporter": "python",
   "pygments_lexer": "ipython3",
   "version": "3.7.9-final"
  },
  "orig_nbformat": 2,
  "kernelspec": {
   "name": "python3",
   "display_name": "Python 3"
  }
 },
 "nbformat": 4,
 "nbformat_minor": 2,
 "cells": [
  {
   "source": [
    "# Imports"
   ],
   "cell_type": "markdown",
   "metadata": {}
  },
  {
   "cell_type": "code",
   "execution_count": null,
   "metadata": {},
   "outputs": [],
   "source": [
    "import pdb\n",
    "from pathlib import Path\n",
    "\n",
    "import medloader.dataloader.utils as utils\n",
    "import medloader.dataloader.config as config\n",
    "import medloader.dataloader.utils_viz as utils_viz\n",
    "import medloader.dataloader.tensorflow.augmentations as aug\n",
    "from medloader.dataloader.tensorflow.dataset import ZipDataset\n",
    "\n",
    "MAIN_DIR = Path().resolve().parent.absolute()\n",
    "data_dir = Path(MAIN_DIR).joinpath('data')\n",
    "\n",
    "%load_ext autoreload\n",
    "%autoreload 2"
   ]
  },
  {
   "source": [
    "# Functions"
   ],
   "cell_type": "markdown",
   "metadata": {}
  },
  {
   "cell_type": "code",
   "execution_count": null,
   "metadata": {},
   "outputs": [],
   "source": [
    "def get_dataset_han_miccai2015_3D_grid(data_dir, dir_type\n",
    "            , mask_type, resampled=False\n",
    "            , transforms=True, filter=True, debug=False):\n",
    "    \n",
    "    from medloader.dataloader.tensorflow.han_miccai2015 import HaNMICCAI2015Dataset\n",
    "\n",
    "    # Step 1 - Get dataset class\n",
    "    dataset = HaNMICCAI2015Dataset(data_dir=data_dir, dir_type=dir_type\n",
    "                    , dimension=3, mask_type=mask_type, resampled=resampled\n",
    "                    , filter=True\n",
    "                    , debug=debug)\n",
    "\n",
    "    # Step 2 - Transforms\n",
    "    if transforms:\n",
    "        x_shape_w = dataset.w_grid\n",
    "        x_shape_h = dataset.h_grid\n",
    "        x_shape_d = dataset.d_grid\n",
    "        transforms = [\n",
    "                aug.NormalizeMinMaxSampler(min_val=config.HU_MIN, max_val=config.HU_MAX, x_shape=(x_shape_h, x_shape_w, x_shape_d,1))\n",
    "                , aug.Rotate3D()\n",
    "            ]\n",
    "        dataset.transforms = transforms\n",
    "\n",
    "    # Step 3 - Filters (to eliminate/reduce background-only grids)\n",
    "    if filter:\n",
    "        dataset.filter = aug.FilterByMask(len(dataset.LABEL_MAP), dataset.SAMPLER_PERC).execute\n",
    "\n",
    "    # Step 4- Return\n",
    "    return ZipDataset([dataset])\n",
    "\n",
    "def get_dataset_han_miccai2015_3D_full(data_dir, dir_type\n",
    "            , mask_type, resampled=False\n",
    "            , transforms=False\n",
    "            , debug=False):\n",
    "    \n",
    "    from medloader.dataloader.tensorflow.han_miccai2015 import HaNMICCAI2015Dataset\n",
    "\n",
    "    # Step 1 - Get dataset class\n",
    "    dataset = HaNMICCAI2015Dataset(data_dir=data_dir, dir_type=dir_type\n",
    "                    , dimension=3, mask_type=mask_type, resampled=resampled, grid=False\n",
    "                    , filter=False\n",
    "                    , debug=debug)\n",
    "\n",
    "    # Step 2 - Transforms\n",
    "    if transforms:\n",
    "        x_shape_w = dataset.w_grid\n",
    "        x_shape_h = dataset.h_grid\n",
    "        x_shape_d = dataset.d_grid\n",
    "        transforms = [\n",
    "                aug.NormalizeMinMaxSampler(min_val=config.HU_MIN, max_val=config.HU_MAX, x_shape=(x_shape_h, x_shape_w, x_shape_d,1))\n",
    "            ]\n",
    "        dataset.transforms = transforms\n",
    "\n",
    "    # Step 3 - Return\n",
    "    return ZipDataset([dataset])"
   ]
  },
  {
   "source": [
    "# 1. Main - full volume extractor (for viewing purposes)"
   ],
   "cell_type": "markdown",
   "metadata": {}
  },
  {
   "cell_type": "code",
   "execution_count": null,
   "metadata": {},
   "outputs": [],
   "source": [
    "batchsize = 1\n",
    "dataset3D = get_dataset_han_miccai2015_3D_full(data_dir=data_dir, dir_type='train'\n",
    "                                            , mask_type=config.MASK_TYPE_COMBINED, resampled=False\n",
    "                                            , transforms=False)\n",
    "\n",
    "for (X,Y,meta1,meta2) in dataset3D.generator().batch(batchsize):\n",
    "    print (' - ', X.shape, Y.shape, meta1.numpy())\n",
    "    if len(Y.shape) == 4:\n",
    "        datasets_this = utils.get_dataset_from_zip(meta2, dataset3D)\n",
    "        utils_viz.viz_3d_mask(Y, datasets_this, meta1, meta2)\n",
    "        pdb.set_trace()"
   ]
  },
  {
   "source": [
    "# 2. Main - grid extractor (for ML purposes - a Tensorflow loader)"
   ],
   "cell_type": "markdown",
   "metadata": {}
  },
  {
   "cell_type": "code",
   "execution_count": null,
   "metadata": {
    "tags": []
   },
   "outputs": [],
   "source": [
    "batchsize = 1\n",
    "dataset3D = get_dataset_han_miccai2015_3D_grid(data_dir=data_dir, dir_type='train'\n",
    "                                            , mask_type=config.MASK_TYPE_ONEHOT, resampled=False\n",
    "                                            , filter=True)\n",
    "\n",
    "try:\n",
    "    for (X,Y,meta1,meta2) in dataset3D.generator().batch(batchsize):\n",
    "        print (X.shape, Y.shape, meta1.numpy())\n",
    "        pbd.set_trace()\n",
    "except:\n",
    "    import traceback\n",
    "    traceback.print_exc()"
   ]
  },
  {
   "source": [
    "# 3. Main - grid extractor (for ML benchmarking purposes)"
   ],
   "cell_type": "markdown",
   "metadata": {}
  },
  {
   "cell_type": "code",
   "execution_count": null,
   "metadata": {
    "tags": []
   },
   "outputs": [],
   "source": [
    "\n",
    "import medloader.dataloader.utils as utils\n",
    "\n",
    "batchsize = 1\n",
    "dataset3D = get_dataset_han_miccai2015_3D_grid(data_dir=data_dir, dir_type='train'\n",
    "                                            , mask_type=config.MASK_TYPE_ONEHOT, resampled=True\n",
    "                                            , filter=True, transforms=True)\n",
    "\n",
    "utils.benchmark(dataset3D.generator().batch(batchsize), model_time=0.3)"
   ]
  },
  {
   "source": [
    "# 4. Main - grid extractor (for viewing purposes)"
   ],
   "cell_type": "markdown",
   "metadata": {}
  },
  {
   "cell_type": "code",
   "execution_count": null,
   "metadata": {
    "tags": []
   },
   "outputs": [],
   "source": [
    "batchsize = 1\n",
    "dataset3D = get_dataset_han_miccai2015_3D_grid(data_dir=data_dir, dir_type='train'\n",
    "                                            , mask_type=config.MASK_TYPE_COMBINED, resampled=False\n",
    "                                            , filter=True, transforms=False)\n",
    "\n",
    "for (X,Y,meta1,meta2) in dataset3D.generator().batch(batchsize):\n",
    "    print (' - ', X.shape, Y.shape, meta1.numpy())\n",
    "    if len(Y.shape) == 4:\n",
    "        datasets_this = utils.get_dataset_from_zip(meta2, dataset3D)\n",
    "        utils_viz.viz_3d_mask(Y, datasets_this, meta1, meta2)\n",
    "        pdb.set_trace()"
   ]
  }
 ]
}