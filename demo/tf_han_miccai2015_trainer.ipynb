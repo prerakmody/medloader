{
 "metadata": {
  "language_info": {
   "codemirror_mode": {
    "name": "ipython",
    "version": 3
   },
   "file_extension": ".py",
   "mimetype": "text/x-python",
   "name": "python",
   "nbconvert_exporter": "python",
   "pygments_lexer": "ipython3",
   "version": "3.7.9-final"
  },
  "orig_nbformat": 2,
  "kernelspec": {
   "name": "python3",
   "display_name": "Python 3"
  }
 },
 "nbformat": 4,
 "nbformat_minor": 2,
 "cells": [
  {
   "source": [
    "# Import"
   ],
   "cell_type": "markdown",
   "metadata": {}
  },
  {
   "cell_type": "code",
   "execution_count": null,
   "metadata": {},
   "outputs": [],
   "source": [
    "from pathlib import Path\n",
    "\n",
    "import medloader.nnet.config as config\n",
    "import medloader.nnet.tensorflow.train as train\n",
    "\n",
    "MAIN_DIR = Path().resolve().parent.absolute()\n",
    "data_dir = Path(MAIN_DIR).joinpath('data')\n",
    "\n",
    "%load_ext autoreload\n",
    "%autoreload 2"
   ]
  },
  {
   "source": [
    "# Params"
   ],
   "cell_type": "markdown",
   "metadata": {}
  },
  {
   "cell_type": "code",
   "execution_count": null,
   "metadata": {},
   "outputs": [],
   "source": [
    "params = {\n",
    "    'MAIN_DIR': MAIN_DIR\n",
    "    , 'random_seed': 42\n",
    "    , 'exp_name': 'UNet3D_seed42'\n",
    "    , 'dataloader': {\n",
    "        'data_dir': data_dir\n",
    "        , 'name': config.DATALOADER_MICCAI2015\n",
    "        , 'resampled': True\n",
    "        , 'single_sample': True\n",
    "        , 'batch_size': 2\n",
    "    }\n",
    "    , 'model':{\n",
    "        'name': config.MODEL_UNET3D\n",
    "        , 'kernel_reg': False\n",
    "        , 'optimizer': config.OPTIMIZER_ADAM\n",
    "        , 'lr': 0.005\n",
    "        , 'epochs': 2\n",
    "        , 'epochs_save': 10\n",
    "        , 'epochs_eval': 40\n",
    "        , 'epochs_viz': 100\n",
    "        , 'load_model': {'load': False, 'load_epoch':-1}\n",
    "    }\n",
    "    , 'metrics':{\n",
    "        'metrics_loss': {'Dice': config.LOSS_DICE}\n",
    "        , 'metrics_eval': {'Dice': config.LOSS_DICE}\n",
    "        , 'loss_weighted': {'Dice': True}\n",
    "    }\n",
    "}\n",
    "\n",
    "trainer = train.Trainer(params)\n",
    "trainer.train()"
   ]
  }
 ]
}